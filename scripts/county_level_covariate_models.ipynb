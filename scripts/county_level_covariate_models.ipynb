{
 "cells": [
  {
   "cell_type": "markdown",
   "metadata": {},
   "source": [
    "# Multivariable Analysis"
   ]
  },
  {
   "cell_type": "code",
   "execution_count": null,
   "metadata": {},
   "outputs": [],
   "source": [
    "import matplotlib\n",
    "%matplotlib inline\n",
    "import shap, matplotlib.pyplot as plt\n",
    "\n",
    "import matplotlib\n",
    "import seaborn as sns\n",
    "matplotlib.rcParams['figure.dpi'] = 300\n",
    "sns.set(style='white')\n",
    "%matplotlib inline\n",
    "import matplotlib.pyplot as plt\n",
    "import seaborn as sns\n",
    "sns.set(style='white')\n",
    "import statsmodels.api as sm\n",
    "import numpy as np\n",
    "from sklearn.preprocessing import StandardScaler\n",
    "from sklearn.linear_model import LinearRegression\n",
    "np.random.seed(42)\n",
    "\n",
    "\n",
    "def run_shap(X_train, X_test, model, model_type='linear', explainer_options={}, get_shap_values_options={}, overall=False, savefile=''):\n",
    "    matplotlib.rcParams['figure.dpi'] = 300\n",
    "    sns.set(style='white')\n",
    "    #shap.initjs()\n",
    "    np.random.seed(42)\n",
    "\n",
    "    shap_model={'tree':shap.TreeExplainer,'kernel':shap.KernelExplainer,'linear':shap.LinearExplainer}[model_type]\n",
    "\n",
    "    explainer = shap_model(model, X_train,**explainer_options)\n",
    "\n",
    "    shap_values = explainer.shap_values(X_test,**get_shap_values_options)\n",
    "\n",
    "    if model_type=='tree' and model.__class__.__name__!='XGBClassifier':\n",
    "        shap_values=np.array(shap_values)[1,...]\n",
    "\n",
    "    plt.figure()\n",
    "    shap.summary_plot(shap_values, X_test,feature_names=[col.replace('_',' ') for col in X_test.columns], plot_type='bar' if overall else 'dot', max_display=30)\n",
    "    if savefile:\n",
    "        plt.savefig(savefile,dpi=300)\n",
    "    return explainer, shap_values\n",
    "\n",
    "def plot_shap(county):\n",
    "    i=counties2.index(county)\n",
    "    #shap.initjs()\n",
    "    print(counties.values[Set=='test'][i])\n",
    "    #plt.figure(figsize=(5,5))\n",
    "    fig=shap.force_plot(explainer.expected_value, shap_values[i,:], np.round(X_test.iloc[i,:],3),matplotlib=True,show=False,figsize=(30,4))\n",
    "    plt.savefig('../results/shap.lm.{}.png'.format(county),bbox_inches = \"tight\",figsize=(30,4),dpi=300)\n",
    "\n",
    "df=pd.read_csv('../data/final_dataset_covariate_model.csv') \n",
    "X,y=df[['Adjusted_Race_1','Adjusted_Race_2','Adjusted_Race_4','Hispanic','Sex','Age','Any_College_2015','income_2015']+['Region_{}'.format(i) for i in range(1,9)]],df['Mortality']*1000\n",
    "counties,Set=df['County'],df['Set']\n",
    "X_train,y_train=X[Set=='train'],y[Set=='train']\n",
    "X_val,y_val=X[Set=='val'],y[Set=='val']\n",
    "X_test,y_test=X[Set=='test'],y[Set=='test']\n",
    "X_train=np.vstack([X_train,X_val])\n",
    "y_train=np.hstack([y_train,y_val])\n",
    "\n",
    "X_train2 = sm.add_constant(X_train)\n",
    "y_train2 = y_train\n",
    "result = sm.OLS(y_train2, X_train2).fit()\n",
    "fit_params=pd.DataFrame(result.params[1:],index=list(X))\n",
    "fit_params=fit_params.iloc[np.argsort(fit_params.abs().values.flatten())[::-1]]\n",
    "    \n",
    "pr=LinearRegression(normalize=False)\n",
    "pr.fit(X_train,y_train,sample_weight=df.loc[df['Set']!='test','Population'])\n",
    "pr.score(X_test,y_test) # R2\n",
    "\n",
    "region_replace=dict([x.split('\\t') for x in \n",
    "\"\"\"Region_1\tNew England\n",
    "Region_2\tMideast\n",
    "Region_3\tGreat Lakes\n",
    "Region_4\tPlains\n",
    "Region_5\tSoutheast\n",
    "Region_6\tSouthwest\n",
    "Region_7\tRocky Mountains\n",
    "Region_8\tFar East\n",
    "\"\"\".splitlines()])\n",
    "\n",
    "explainer, shap_values=run_shap(X_train,X_test.rename(columns=region_replace),pr,overall=True)\n",
    "\n",
    "explainer, shap_values=run_shap(X_train,X_test.rename(columns=region_replace),pr)\n",
    "\n",
    "importances=pd.DataFrame(np.round(np.abs(shap_values).mean(0),1)).T\n",
    "importances.columns=list(X_test)\n",
    "importances.T.sort_values(by=0,ascending=False)\n",
    "\n",
    "counties2=counties[Set=='test'].tolist()\n",
    "noncounties=[]\n",
    "for county in df.loc[df['Set']=='test','County'].values:\n",
    "    if county in counties2:\n",
    "        plot_shap(county)\n",
    "    else:\n",
    "        print('Not a County',county)\n",
    "        noncounties.append(county)"
   ]
  },
  {
   "cell_type": "markdown",
   "metadata": {},
   "source": [
    "# Univariable Analysis"
   ]
  },
  {
   "cell_type": "code",
   "execution_count": null,
   "metadata": {},
   "outputs": [],
   "source": [
    "import pandas as pd\n",
    "df=pd.read_csv('../data/covar_model_merged.csv')"
   ]
  },
  {
   "cell_type": "code",
   "execution_count": null,
   "metadata": {},
   "outputs": [],
   "source": [
    "import statsmodels.api as sm\n",
    "import numpy as np\n",
    "results=[]\n",
    "for covar in [col for col in list(df) if col not in ['Unnamed: 0','Mortality_x','Mortality_binned_x','Set_x','Population_x','FIPS_x','y_true','y_pred','counties','County','state','Region']]:\n",
    "    results.append([covar.replace('_x','').replace('_',' ')]+pd.read_html(sm.OLS(df[covar].values, df['y_pred'].values).fit().summary().tables[0].as_html(), header=None, index_col=0)[0].iloc[[1,3],2].values.tolist())"
   ]
  },
  {
   "cell_type": "code",
   "execution_count": null,
   "metadata": {},
   "outputs": [],
   "source": [
    "df_res=pd.DataFrame(results,columns=['Covariate','Adjusted R-Squared', 'P-Value']).sort_values(by='P-Value')\n",
    "df_res.set_index('Covariate')"
   ]
  },
  {
   "cell_type": "code",
   "execution_count": null,
   "metadata": {},
   "outputs": [],
   "source": [
    "pd.DataFrame(results,columns=['Covariate','Adjusted R-Squared', 'P-Value']).values"
   ]
  }
 ],
 "metadata": {
  "kernelspec": {
   "display_name": "py37_2",
   "language": "python",
   "name": "py37_2"
  },
  "language_info": {
   "codemirror_mode": {
    "name": "ipython",
    "version": 3
   },
   "file_extension": ".py",
   "mimetype": "text/x-python",
   "name": "python",
   "nbconvert_exporter": "python",
   "pygments_lexer": "ipython3",
   "version": "3.7.10"
  }
 },
 "nbformat": 4,
 "nbformat_minor": 2
}
